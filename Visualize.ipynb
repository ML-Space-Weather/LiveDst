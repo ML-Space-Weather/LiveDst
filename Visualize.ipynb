{
 "cells": [
  {
   "cell_type": "code",
   "execution_count": 1,
   "metadata": {},
   "outputs": [],
   "source": [
    "import numpy as np\n",
    "import h5py\n",
    "\n",
    "boost_num = 5\n",
    "ratio = 1.0\n",
    "Dst_sel = -100\n",
    "name = ['train', 'test', 'KF']"
   ]
  },
  {
   "cell_type": "code",
   "execution_count": 5,
   "metadata": {},
   "outputs": [
    {
     "name": "stdout",
     "output_type": "stream",
     "text": [
      "##########1hr, 59th event #########\n",
      "##########KF################\n",
      "RMSE is 2.59\n",
      "RMSE in strong/mild/quiet is 4.84/3.31/2.03\n",
      "##########2hr, 59th event #########\n",
      "##########KF################\n",
      "RMSE is 3.81\n",
      "RMSE in strong/mild/quiet is 7.57/3.98/3.13\n",
      "##########3hr, 59th event #########\n",
      "##########KF################\n",
      "RMSE is 8.22\n",
      "RMSE in strong/mild/quiet is 16.99/10.37/6.0\n",
      "##########4hr, 59th event #########\n",
      "##########KF################\n",
      "RMSE is 11.44\n",
      "RMSE in strong/mild/quiet is 26.19/13.85/7.99\n"
     ]
    }
   ],
   "source": [
    "\n",
    "for delay in range(4):\n",
    "    # filename = 'Res/'+str(boost_num)+\\\n",
    "    #     '/'+str(ratio)+\\\n",
    "    #     '/Uncertainty_'+\\\n",
    "    #     str(delay+1)+'-' +\\\n",
    "    #     str(Dst_sel)+'-'+'.h5'\n",
    "    filename = 'Res/'+\\\n",
    "                'Uncertainty_'+\\\n",
    "                str(delay+1)+'-' +\\\n",
    "                str(args.Dst_sel)+'-'+'.h5'\n",
    "    RMSE = np.zeros([3, 4])\n",
    "    \n",
    "    with h5py.File(filename, 'r') as f:\n",
    "        for i in range(60):\n",
    "            RMSE += np.array(f['RMSE_clu_'+str(i)])/60\n",
    "\n",
    "        f.close()\n",
    "        \n",
    "    print('##########'+str(delay+1)+'hr, '+str(i)+'th event #########')\n",
    "    for j in range(2, 3):\n",
    "\n",
    "        print('##########'+name[j]+'################')\n",
    "        print('RMSE is {}'.format(round(RMSE[j, 0],2)))\n",
    "        print('RMSE in strong/mild/quiet is {}/{}/{}'.format(\n",
    "            round(RMSE[j, 1],2),\n",
    "            round(RMSE[j, 2],2),\n",
    "            round(RMSE[j, 3],2)\n",
    "                ))"
   ]
  },
  {
   "cell_type": "code",
   "execution_count": null,
   "metadata": {},
   "outputs": [],
   "source": []
  }
 ],
 "metadata": {
  "interpreter": {
   "hash": "cdb360f3e340567a9108227f1873675b6a584148540e15e74056fd513870b0e7"
  },
  "kernelspec": {
   "display_name": "Python 3.9.4 ('LiveDst')",
   "language": "python",
   "name": "python3"
  },
  "language_info": {
   "codemirror_mode": {
    "name": "ipython",
    "version": 3
   },
   "file_extension": ".py",
   "mimetype": "text/x-python",
   "name": "python",
   "nbconvert_exporter": "python",
   "pygments_lexer": "ipython3",
   "version": "3.9.4"
  },
  "orig_nbformat": 4
 },
 "nbformat": 4,
 "nbformat_minor": 2
}
