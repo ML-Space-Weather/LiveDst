{
 "cells": [
  {
   "cell_type": "code",
   "execution_count": 1,
   "metadata": {},
   "outputs": [],
   "source": [
    "import numpy as np\n",
    "import h5py\n",
    "\n",
    "boost_num = 5\n",
    "ratio = 1.0\n",
    "Dst_sel = -100\n",
    "name = ['train', 'test', 'KF']"
   ]
  },
  {
   "cell_type": "code",
   "execution_count": 2,
   "metadata": {},
   "outputs": [
    {
     "name": "stdout",
     "output_type": "stream",
     "text": [
      "##########1hr, 59th event #########\n",
      "##########train################\n",
      "RMSE is 3100.61\n",
      "RMSE in strong/mild/quiet is 4972.76/1519.53/1340.0\n",
      "##########test################\n",
      "RMSE is 2842.93\n",
      "RMSE in strong/mild/quiet is 2786.27/1547.57/1295.05\n",
      "##########KF################\n",
      "RMSE is 158.72\n",
      "RMSE in strong/mild/quiet is 323.49/183.34/124.17\n",
      "##########2hr, 59th event #########\n",
      "##########train################\n",
      "RMSE is 3081.81\n",
      "RMSE in strong/mild/quiet is 5006.05/1563.15/1336.7\n",
      "##########test################\n",
      "RMSE is 2820.11\n",
      "RMSE in strong/mild/quiet is 2882.81/1573.95/1291.84\n",
      "##########KF################\n",
      "RMSE is 175.21\n",
      "RMSE in strong/mild/quiet is 343.09/197.06/141.33\n",
      "##########3hr, 59th event #########\n",
      "##########train################\n",
      "RMSE is 3074.27\n",
      "RMSE in strong/mild/quiet is 5075.5/1609.31/1335.31\n",
      "##########test################\n",
      "RMSE is 2795.12\n",
      "RMSE in strong/mild/quiet is 3085.62/1631.94/1292.52\n",
      "##########KF################\n",
      "RMSE is 401.08\n",
      "RMSE in strong/mild/quiet is 827.11/395.16/328.58\n",
      "##########4hr, 59th event #########\n",
      "##########train################\n",
      "RMSE is 3067.4\n",
      "RMSE in strong/mild/quiet is 5158.95/1661.23/1333.47\n",
      "##########test################\n",
      "RMSE is 2789.72\n",
      "RMSE in strong/mild/quiet is 3220.41/1718.69/1297.63\n",
      "##########KF################\n",
      "RMSE is 592.99\n",
      "RMSE in strong/mild/quiet is 1194.57/606.07/496.75\n",
      "##########5hr, 59th event #########\n",
      "##########train################\n",
      "RMSE is 3046.31\n",
      "RMSE in strong/mild/quiet is 5241.78/1690.96/1331.31\n",
      "##########test################\n",
      "RMSE is 2748.92\n",
      "RMSE in strong/mild/quiet is 3679.84/1780.56/1267.82\n",
      "##########KF################\n",
      "RMSE is 775.82\n",
      "RMSE in strong/mild/quiet is 1807.15/914.31/538.07\n",
      "##########6hr, 59th event #########\n",
      "##########train################\n",
      "RMSE is 3017.58\n",
      "RMSE in strong/mild/quiet is 5272.21/1703.0/1330.17\n",
      "##########test################\n",
      "RMSE is 2695.53\n",
      "RMSE in strong/mild/quiet is 3522.69/1744.15/1258.3\n",
      "##########KF################\n",
      "RMSE is 811.69\n",
      "RMSE in strong/mild/quiet is 1833.8/1018.96/595.14\n"
     ]
    }
   ],
   "source": [
    "\n",
    "for delay in range(6):\n",
    "    filename = 'Res/'+str(boost_num)+\\\n",
    "        '/'+str(ratio)+\\\n",
    "        '/Uncertainty_'+\\\n",
    "        str(delay+1)+'-' +\\\n",
    "        str(Dst_sel)+'-'+'.h5'\n",
    "    RMSE = np.zeros([3, 4])\n",
    "    \n",
    "    with h5py.File(filename, 'r') as f:\n",
    "        for i in range(60):\n",
    "            RMSE += np.array(f['RMSE_clu_'+str(i)])/60\n",
    "\n",
    "        f.close()\n",
    "        \n",
    "    print('##########'+str(delay+1)+'hr, '+str(i)+'th event #########')\n",
    "    for j in range(3):\n",
    "\n",
    "        print('##########'+name[j]+'################')\n",
    "        print('RMSE is {}'.format(round(RMSE[j, 0],2)))\n",
    "        print('RMSE in strong/mild/quiet is {}/{}/{}'.format(\n",
    "            round(RMSE[j, 1],2),\n",
    "            round(RMSE[j, 2],2),\n",
    "            round(RMSE[j, 3],2)\n",
    "                ))"
   ]
  },
  {
   "cell_type": "code",
   "execution_count": null,
   "metadata": {},
   "outputs": [],
   "source": []
  }
 ],
 "metadata": {
  "interpreter": {
   "hash": "cdb360f3e340567a9108227f1873675b6a584148540e15e74056fd513870b0e7"
  },
  "kernelspec": {
   "display_name": "Python 3.9.4 ('LiveDst')",
   "language": "python",
   "name": "python3"
  },
  "language_info": {
   "codemirror_mode": {
    "name": "ipython",
    "version": 3
   },
   "file_extension": ".py",
   "mimetype": "text/x-python",
   "name": "python",
   "nbconvert_exporter": "python",
   "pygments_lexer": "ipython3",
   "version": "3.9.4"
  },
  "orig_nbformat": 4
 },
 "nbformat": 4,
 "nbformat_minor": 2
}
